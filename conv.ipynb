{
 "metadata": {
  "language_info": {
   "codemirror_mode": {
    "name": "ipython",
    "version": 3
   },
   "file_extension": ".py",
   "mimetype": "text/x-python",
   "name": "python",
   "nbconvert_exporter": "python",
   "pygments_lexer": "ipython3",
   "version": "3.8.3-final"
  },
  "orig_nbformat": 2,
  "kernelspec": {
   "name": "python3",
   "display_name": "Python 3"
  }
 },
 "nbformat": 4,
 "nbformat_minor": 2,
 "cells": [
  {
   "cell_type": "code",
   "execution_count": 9,
   "metadata": {},
   "outputs": [
    {
     "output_type": "stream",
     "name": "stdout",
     "text": [
      "Epoch 1/10\n",
      "122/122 [==============================] - 7s 54ms/step - loss: 0.4527 - accuracy: 0.7752 - val_loss: 0.2483 - val_accuracy: 0.8956\n",
      "Epoch 2/10\n",
      "122/122 [==============================] - 6s 50ms/step - loss: 0.2400 - accuracy: 0.8951 - val_loss: 0.2521 - val_accuracy: 0.8933\n",
      "Epoch 3/10\n",
      "122/122 [==============================] - 6s 50ms/step - loss: 0.2034 - accuracy: 0.9183 - val_loss: 0.1818 - val_accuracy: 0.9327\n",
      "Epoch 4/10\n",
      "122/122 [==============================] - 6s 51ms/step - loss: 0.1456 - accuracy: 0.9472 - val_loss: 0.1614 - val_accuracy: 0.9443\n",
      "Epoch 5/10\n",
      "122/122 [==============================] - 6s 52ms/step - loss: 0.1244 - accuracy: 0.9567 - val_loss: 0.1859 - val_accuracy: 0.9374\n",
      "Epoch 6/10\n",
      "122/122 [==============================] - 6s 51ms/step - loss: 0.1266 - accuracy: 0.9510 - val_loss: 0.1749 - val_accuracy: 0.9490\n",
      "Epoch 7/10\n",
      "122/122 [==============================] - 7s 55ms/step - loss: 0.1024 - accuracy: 0.9621 - val_loss: 0.1379 - val_accuracy: 0.9606\n",
      "Epoch 8/10\n",
      "122/122 [==============================] - 7s 57ms/step - loss: 0.0873 - accuracy: 0.9701 - val_loss: 0.1323 - val_accuracy: 0.9698\n",
      "Epoch 9/10\n",
      "122/122 [==============================] - 7s 55ms/step - loss: 0.0766 - accuracy: 0.9740 - val_loss: 0.1512 - val_accuracy: 0.9559\n",
      "Epoch 10/10\n",
      "122/122 [==============================] - 7s 55ms/step - loss: 0.0755 - accuracy: 0.9740 - val_loss: 0.2007 - val_accuracy: 0.9304\n"
     ]
    },
    {
     "output_type": "execute_result",
     "data": {
      "text/plain": [
       "<tensorflow.python.keras.callbacks.History at 0x25bd22d3310>"
      ]
     },
     "metadata": {},
     "execution_count": 9
    }
   ],
   "source": [
    "import tensorflow as tf\n",
    "import numpy as np\n",
    "from tensorflow.keras.models import Sequential\n",
    "from tensorflow.keras.layers import Dense, Dropout, Activation, Flatten, Conv2D, MaxPooling2D\n",
    "import pickle\n",
    "\n",
    "X = pickle.load(open(\"X.pickle\", \"rb\"))\n",
    "y = pickle.load(open(\"y.pickle\", \"rb\"))\n",
    "\n",
    "X = np.array(X/255.0)\n",
    "y = np.array(y)\n",
    "\n",
    "model = Sequential()\n",
    "\n",
    "model.add(Conv2D(64, (3, 3), input_shape = X.shape[1:]))\n",
    "model.add(Activation(\"relu\"))\n",
    "model.add(MaxPooling2D(pool_size=(2,2)))\n",
    "\n",
    "model.add(Conv2D(64, (3, 3)))\n",
    "model.add(Activation(\"relu\"))\n",
    "model.add(MaxPooling2D(pool_size=(2,2)))\n",
    "\n",
    "model.add(Flatten())\n",
    "model.add(Dense(64))\n",
    "\n",
    "model.add(Dense(1))\n",
    "model.add(Activation(\"sigmoid\"))\n",
    "\n",
    "model.compile(loss=\"binary_crossentropy\", optimizer=\"adam\",metrics=[\"accuracy\"])\n",
    "\n",
    "model.fit(X, y, batch_size=32, epochs=10, validation_split=0.1)"
   ]
  },
  {
   "cell_type": "code",
   "execution_count": null,
   "metadata": {},
   "outputs": [],
   "source": []
  }
 ]
}