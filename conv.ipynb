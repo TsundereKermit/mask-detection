{
 "metadata": {
  "language_info": {
   "codemirror_mode": {
    "name": "ipython",
    "version": 3
   },
   "file_extension": ".py",
   "mimetype": "text/x-python",
   "name": "python",
   "nbconvert_exporter": "python",
   "pygments_lexer": "ipython3",
   "version": "3.8.3-final"
  },
  "orig_nbformat": 2,
  "kernelspec": {
   "name": "python3",
   "display_name": "Python 3"
  }
 },
 "nbformat": 4,
 "nbformat_minor": 2,
 "cells": [
  {
   "cell_type": "code",
   "execution_count": 14,
   "metadata": {},
   "outputs": [
    {
     "output_type": "stream",
     "name": "stdout",
     "text": [
      "Epoch 1/10\n",
      "  2/108 [..............................] - ETA: 22s - loss: 0.7180 - accuracy: 0.5312WARNING:tensorflow:Callbacks method `on_train_batch_end` is slow compared to the batch time (batch time: 0.0489s vs `on_train_batch_end` time: 0.3727s). Check your callbacks.\n",
      "108/108 [==============================] - 6s 59ms/step - loss: 0.4610 - accuracy: 0.7622 - val_loss: 0.2572 - val_accuracy: 0.9002\n",
      "Epoch 2/10\n",
      "108/108 [==============================] - 6s 52ms/step - loss: 0.2241 - accuracy: 0.9118 - val_loss: 0.1697 - val_accuracy: 0.9292\n",
      "Epoch 3/10\n",
      "108/108 [==============================] - 5s 49ms/step - loss: 0.1721 - accuracy: 0.9333 - val_loss: 0.1362 - val_accuracy: 0.9501\n",
      "Epoch 4/10\n",
      "108/108 [==============================] - 5s 51ms/step - loss: 0.1509 - accuracy: 0.9440 - val_loss: 0.1307 - val_accuracy: 0.9524\n",
      "Epoch 5/10\n",
      "108/108 [==============================] - 5s 50ms/step - loss: 0.1135 - accuracy: 0.9611 - val_loss: 0.1627 - val_accuracy: 0.9362\n",
      "Epoch 6/10\n",
      "108/108 [==============================] - 6s 55ms/step - loss: 0.0963 - accuracy: 0.9681 - val_loss: 0.1093 - val_accuracy: 0.9640\n",
      "Epoch 7/10\n",
      "108/108 [==============================] - 6s 55ms/step - loss: 0.0816 - accuracy: 0.9713 - val_loss: 0.1943 - val_accuracy: 0.9281\n",
      "Epoch 8/10\n",
      "108/108 [==============================] - 5s 49ms/step - loss: 0.0917 - accuracy: 0.9678 - val_loss: 0.1118 - val_accuracy: 0.9606\n",
      "Epoch 9/10\n",
      "108/108 [==============================] - 6s 54ms/step - loss: 0.0604 - accuracy: 0.9806 - val_loss: 0.1143 - val_accuracy: 0.9664\n",
      "Epoch 10/10\n",
      "108/108 [==============================] - 6s 56ms/step - loss: 0.0591 - accuracy: 0.9806 - val_loss: 0.1405 - val_accuracy: 0.9490\n"
     ]
    },
    {
     "output_type": "execute_result",
     "data": {
      "text/plain": [
       "<tensorflow.python.keras.callbacks.History at 0x25bc5289940>"
      ]
     },
     "metadata": {},
     "execution_count": 14
    }
   ],
   "source": [
    "import tensorflow as tf\n",
    "import numpy as np\n",
    "from tensorflow.keras.models import Sequential\n",
    "from tensorflow.keras.layers import Dense, Dropout, Activation, Flatten, Conv2D, MaxPooling2D\n",
    "from tensorflow.keras.callbacks import TensorBoard\n",
    "import pickle\n",
    "import time\n",
    "\n",
    "NAME = \"Masked-or-unmasked-{}\".format(int(time.time()))\n",
    "tensorboard = TensorBoard(log_dir=\"logs/{}\".format(NAME))\n",
    "\n",
    "X = pickle.load(open(\"X.pickle\", \"rb\"))\n",
    "y = pickle.load(open(\"y.pickle\", \"rb\"))\n",
    "\n",
    "X = np.array(X/255.0)\n",
    "y = np.array(y)\n",
    "\n",
    "model = Sequential()\n",
    "\n",
    "model.add(Conv2D(64, (3, 3), input_shape = X.shape[1:]))\n",
    "model.add(Activation(\"relu\"))\n",
    "model.add(MaxPooling2D(pool_size=(2,2)))\n",
    "\n",
    "model.add(Conv2D(64, (3, 3)))\n",
    "model.add(Activation(\"relu\"))\n",
    "model.add(MaxPooling2D(pool_size=(2,2)))\n",
    "\n",
    "model.add(Flatten())\n",
    "model.add(Dense(64))\n",
    "model.add(Activation(\"relu\"))\n",
    "\n",
    "model.add(Dense(1))\n",
    "model.add(Activation(\"sigmoid\"))\n",
    "\n",
    "model.compile(loss=\"binary_crossentropy\", optimizer=\"adam\",metrics=[\"accuracy\"])\n",
    "\n",
    "model.fit(X, y, batch_size=32, epochs=10, validation_split=0.2, callbacks = [tensorboard])"
   ]
  },
  {
   "cell_type": "code",
   "execution_count": null,
   "metadata": {},
   "outputs": [],
   "source": []
  }
 ]
}