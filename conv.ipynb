{
 "metadata": {
  "language_info": {
   "codemirror_mode": {
    "name": "ipython",
    "version": 3
   },
   "file_extension": ".py",
   "mimetype": "text/x-python",
   "name": "python",
   "nbconvert_exporter": "python",
   "pygments_lexer": "ipython3",
   "version": "3.8.3-final"
  },
  "orig_nbformat": 2,
  "kernelspec": {
   "name": "python3",
   "display_name": "Python 3"
  }
 },
 "nbformat": 4,
 "nbformat_minor": 2,
 "cells": [
  {
   "cell_type": "code",
   "execution_count": 5,
   "metadata": {
    "tags": []
   },
   "outputs": [
    {
     "output_type": "stream",
     "name": "stdout",
     "text": [
      "2C-128N-2D-Nov 5\n",
      "Epoch 1/10\n",
      "  2/108 [..............................] - ETA: 31s - loss: 0.6884 - accuracy: 0.5938WARNING:tensorflow:Callbacks method `on_train_batch_end` is slow compared to the batch time (batch time: 0.1486s vs `on_train_batch_end` time: 0.4478s). Check your callbacks.\n",
      "108/108 [==============================] - 14s 133ms/step - loss: 0.4956 - accuracy: 0.7439 - val_loss: 0.3024 - val_accuracy: 0.8828\n",
      "Epoch 2/10\n",
      "108/108 [==============================] - 13s 120ms/step - loss: 0.2320 - accuracy: 0.9107 - val_loss: 0.1648 - val_accuracy: 0.9420\n",
      "Epoch 3/10\n",
      "108/108 [==============================] - 13s 124ms/step - loss: 0.1524 - accuracy: 0.9446 - val_loss: 0.1405 - val_accuracy: 0.9490\n",
      "Epoch 4/10\n",
      "108/108 [==============================] - 13s 121ms/step - loss: 0.1357 - accuracy: 0.9504 - val_loss: 0.2331 - val_accuracy: 0.9223\n",
      "Epoch 5/10\n",
      "108/108 [==============================] - 13s 120ms/step - loss: 0.1209 - accuracy: 0.9556 - val_loss: 0.2114 - val_accuracy: 0.9350\n",
      "Epoch 6/10\n",
      "108/108 [==============================] - 13s 123ms/step - loss: 0.1041 - accuracy: 0.9643 - val_loss: 0.1264 - val_accuracy: 0.9559\n",
      "Epoch 7/10\n",
      "108/108 [==============================] - 14s 129ms/step - loss: 0.0736 - accuracy: 0.9777 - val_loss: 0.1192 - val_accuracy: 0.9629\n",
      "Epoch 8/10\n",
      "108/108 [==============================] - 14s 128ms/step - loss: 0.0686 - accuracy: 0.9745 - val_loss: 0.1177 - val_accuracy: 0.9652\n",
      "Epoch 9/10\n",
      "108/108 [==============================] - 13s 123ms/step - loss: 0.0631 - accuracy: 0.9774 - val_loss: 0.1137 - val_accuracy: 0.9606\n",
      "Epoch 10/10\n",
      "108/108 [==============================] - 13s 125ms/step - loss: 0.0428 - accuracy: 0.9867 - val_loss: 0.1289 - val_accuracy: 0.9640\n"
     ]
    },
    {
     "output_type": "execute_result",
     "data": {
      "text/plain": [
       "<tensorflow.python.keras.callbacks.History at 0x11f02dce4c0>"
      ]
     },
     "metadata": {},
     "execution_count": 5
    }
   ],
   "source": [
    "import tensorflow as tf\n",
    "import numpy as np\n",
    "from tensorflow.keras.models import Sequential\n",
    "from tensorflow.keras.layers import Dense, Dropout, Activation, Flatten, Conv2D, MaxPooling2D\n",
    "from tensorflow.keras.callbacks import TensorBoard\n",
    "import pickle\n",
    "import time\n",
    "\n",
    "\n",
    "X = pickle.load(open(\"X.pickle\", \"rb\"))\n",
    "y = pickle.load(open(\"y.pickle\", \"rb\"))\n",
    "\n",
    "X = np.array(X/255.0)\n",
    "y = np.array(y)\n",
    "\n",
    "dense_layer = 2\n",
    "layer_size = 128\n",
    "conv_layer = 2\n",
    "\n",
    "NAME = \"2C-128N-2D-Nov 5\".format(conv_layer,layer_size, dense_layer, int(time.time()))\n",
    "tensorboard = TensorBoard(log_dir=\"logs/{}\".format(NAME))\n",
    "print(NAME)\n",
    "\n",
    "model = Sequential()\n",
    "\n",
    "model.add(Conv2D(layer_size, (3, 3), input_shape = X.shape[1:]))\n",
    "model.add(Activation(\"relu\"))\n",
    "model.add(MaxPooling2D(pool_size=(2,2)))\n",
    "\n",
    "model.add(Conv2D(layer_size, (3, 3)))\n",
    "model.add(Activation(\"relu\"))\n",
    "model.add(MaxPooling2D(pool_size=(2,2)))\n",
    "\n",
    "model.add(Conv2D(layer_size, (3, 3)))\n",
    "model.add(Activation(\"relu\"))\n",
    "model.add(MaxPooling2D(pool_size=(2,2)))\n",
    "\n",
    "model.add(Flatten())\n",
    "model.add(Dense(layer_size))\n",
    "model.add(Activation(\"relu\"))\n",
    "\n",
    "model.add(Flatten())\n",
    "model.add(Dense(layer_size))\n",
    "model.add(Activation(\"relu\"))\n",
    "\n",
    "# model.add(Dense(1))\n",
    "# model.add(Activation(\"sigmoid\"))\n",
    "model.add(Dense(2))\n",
    "model.add(Activation(\"softmax\"))\n",
    "\n",
    "# model.compile(loss=\"binary_crossentropy\", optimizer=\"adam\",metrics=[\"accuracy\"])\n",
    "model.compile(loss=\"sparse_categorical_crossentropy\", optimizer='adam', metrics=['accuracy'])\n",
    "\n",
    "model.fit(X, y, batch_size=32, epochs=10, validation_split=0.2, callbacks = [tensorboard])"
   ]
  },
  {
   "cell_type": "code",
   "execution_count": 6,
   "metadata": {},
   "outputs": [
    {
     "output_type": "stream",
     "name": "stdout",
     "text": [
      "INFO:tensorflow:Assets written to: Nov-5-v2\\assets\n"
     ]
    }
   ],
   "source": [
    "model.save(\"Nov-5-v2\")"
   ]
  },
  {
   "cell_type": "code",
   "execution_count": null,
   "metadata": {},
   "outputs": [],
   "source": []
  }
 ]
}